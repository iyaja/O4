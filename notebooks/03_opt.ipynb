{
 "cells": [
  {
   "cell_type": "code",
   "execution_count": 1,
   "metadata": {},
   "outputs": [
    {
     "name": "stdout",
     "output_type": "stream",
     "text": [
      "env: TOKENIZERS_PARLLELISM=false\n",
      "env: WANDB_PROJECT=O4\n"
     ]
    }
   ],
   "source": [
    "%env TOKENIZERS_PARLLELISM=false\n",
    "%env WANDB_PROJECT=O4\n",
    "\n",
    "SAMPLES = 100\n",
    "PHASES = 5"
   ]
  },
  {
   "cell_type": "code",
   "execution_count": 2,
   "metadata": {},
   "outputs": [],
   "source": [
    "import gym\n",
    "import compiler_gym\n",
    "\n",
    "import pandas as pd\n",
    "from torch import nn\n",
    "\n",
    "import compiler_gym  # imports the CompilerGym environments\n",
    "import gym\n",
    "import pandas as pd\n",
    "from tokenizers import BertWordPieceTokenizer, ByteLevelBPETokenizer\n",
    "from tokenizers.processors import BertProcessing\n",
    "from transformers import (\n",
    "    AutoModelForMaskedLM,\n",
    "    AutoModelForPreTraining,\n",
    "    AutoModelForSequenceClassification,\n",
    "    AutoTokenizer,\n",
    "    BertTokenizerFast,\n",
    "    DataCollatorWithPadding,\n",
    "    PreTrainedTokenizerFast,\n",
    "    RobertaForSequenceClassification,\n",
    "    RobertaTokenizerFast,\n",
    "    Trainer,\n",
    "    TrainingArguments,\n",
    ")\n",
    "\n",
    "from tokenizers.processors import BertProcessing\n",
    "from datasets import Dataset\n",
    "from compiler_gym.envs import LlvmEnv"
   ]
  },
  {
   "cell_type": "code",
   "execution_count": 3,
   "metadata": {},
   "outputs": [],
   "source": [
    "# Create gym environment\n",
    "env = gym.make(\"llvm-ic-v0\")"
   ]
  },
  {
   "cell_type": "code",
   "execution_count": 4,
   "metadata": {},
   "outputs": [
    {
     "name": "stderr",
     "output_type": "stream",
     "text": [
      "Some weights of the model checkpoint at microsoft/codebert-base-mlm were not used when initializing RobertaForSequenceClassification: ['lm_head.bias', 'roberta.pooler.dense.weight', 'lm_head.decoder.bias', 'roberta.pooler.dense.bias', 'lm_head.dense.weight', 'lm_head.layer_norm.weight', 'lm_head.dense.bias', 'lm_head.decoder.weight', 'lm_head.layer_norm.bias']\n",
      "- This IS expected if you are initializing RobertaForSequenceClassification from the checkpoint of a model trained on another task or with another architecture (e.g. initializing a BertForSequenceClassification model from a BertForPreTraining model).\n",
      "- This IS NOT expected if you are initializing RobertaForSequenceClassification from the checkpoint of a model that you expect to be exactly identical (initializing a BertForSequenceClassification model from a BertForSequenceClassification model).\n",
      "Some weights of RobertaForSequenceClassification were not initialized from the model checkpoint at microsoft/codebert-base-mlm and are newly initialized: ['classifier.dense.bias', 'classifier.out_proj.bias', 'classifier.dense.weight', 'classifier.out_proj.weight']\n",
      "You should probably TRAIN this model on a down-stream task to be able to use it for predictions and inference.\n"
     ]
    }
   ],
   "source": [
    "tokenizer = RobertaTokenizerFast.from_pretrained(\"microsoft/codebert-base-mlm\")\n",
    "model = RobertaForSequenceClassification.from_pretrained(\n",
    "        \"microsoft/codebert-base-mlm\", num_labels=1\n",
    "    )"
   ]
  },
  {
   "cell_type": "markdown",
   "metadata": {},
   "source": [
    "## Dataset"
   ]
  },
  {
   "cell_type": "code",
   "execution_count": 17,
   "metadata": {},
   "outputs": [],
   "source": [
    "def prepare_opt_dataset(tokenizer, env: LlvmEnv, samples=SAMPLES, max_phases=PHASES):\n",
    "\n",
    "    env_samples = {\"ir\": [], \"ic\": []}\n",
    "    action = env.action_space.sample()\n",
    "\n",
    "    for _ in range(samples):\n",
    "        env.reset()\n",
    "        for _ in range(max_phases):\n",
    "            text = env.action_space.to_string(action) + env.observation[\"Ir\"]\n",
    "            action = env.action_space.sample()\n",
    "            _, reward, done, info = env.step(action)\n",
    "            if done: break\n",
    "            env_samples[\"ir\"].append(text)\n",
    "            env_samples[\"ic\"].append(action)\n",
    "\n",
    "    dataset = Dataset.from_dict(env_samples)\n",
    "\n",
    "    def preprocess(example):\n",
    "        return tokenizer(example[\"text\"], padding=True, truncation=True)\n",
    "\n",
    "    tokenized = dataset.map(preprocess, batched=True)\n",
    "    tokenized.set_format(type=\"torch\", columns=[\"input_ids\", \"label\", \"attention_mask\"])\n",
    "\n",
    "    return tokenized"
   ]
  },
  {
   "cell_type": "code",
   "execution_count": 18,
   "metadata": {},
   "outputs": [
    {
     "data": {
      "application/vnd.jupyter.widget-view+json": {
       "model_id": "4199f1ecbba542dab7294e63abe1265e",
       "version_major": 2,
       "version_minor": 0
      },
      "text/plain": [
       "  0%|          | 0/2 [00:00<?, ?ba/s]"
      ]
     },
     "metadata": {},
     "output_type": "display_data"
    },
    {
     "data": {
      "application/vnd.jupyter.widget-view+json": {
       "model_id": "af8aa166442c4ea0afd3ecb0c8195903",
       "version_major": 2,
       "version_minor": 0
      },
      "text/plain": [
       "  0%|          | 0/1 [00:00<?, ?ba/s]"
      ]
     },
     "metadata": {},
     "output_type": "display_data"
    }
   ],
   "source": [
    "# Preapre datasets\n",
    "training_dataset = prepare_opt_dataset(tokenizer, env, samples=100, max_phases=20)\n",
    "eval_dataset = prepare_opt_dataset(tokenizer, env, samples=20, max_phases=20)"
   ]
  },
  {
   "cell_type": "markdown",
   "metadata": {},
   "source": [
    "## Model Training"
   ]
  },
  {
   "cell_type": "code",
   "execution_count": 6,
   "metadata": {},
   "outputs": [],
   "source": [
    "cost_tokenizer = RobertaTokenizerFast.from_pretrained(\"../results/cost\")\n",
    "cost_model = RobertaForSequenceClassification.from_pretrained(\"../results/cost\", num_labels=1)"
   ]
  },
  {
   "cell_type": "code",
   "execution_count": 15,
   "metadata": {},
   "outputs": [
    {
     "data": {
      "text/plain": [
       "SequenceClassifierOutput(loss=None, logits=tensor([[0.1173]], grad_fn=<AddmmBackward0>), hidden_states=None, attentions=None)"
      ]
     },
     "execution_count": 15,
     "metadata": {},
     "output_type": "execute_result"
    }
   ],
   "source": [
    "inputs = cost_tokenizer(\"hello world\", return_tensors='pt')\n",
    "cost_model(**inputs)\n",
    "# cost_tokenizer(\"hello world\")"
   ]
  },
  {
   "cell_type": "code",
   "execution_count": 14,
   "metadata": {},
   "outputs": [],
   "source": [
    "\n",
    "class PolicyTrainer(Trainer):\n",
    "    def compute_loss(self, model, inputs, return_outputs=False):\n",
    "        outputs = model(**inputs)\n",
    "        logits = outputs.get('logits').view(-1, self.model.config.num_labels)\n",
    "        action = env.action_space.names[nn.Softmax(dim=-1)(logits)]\n",
    "        \n",
    "        loss_fct = nn.MSELoss()\n",
    "        loss = loss_fct(logits.view(-1, self.model.config.num_labels),\n",
    "                        labels.float().view(-1, self.model.config.num_labels))\n",
    "        return (loss, outputs) if return_outputs else loss"
   ]
  },
  {
   "cell_type": "code",
   "execution_count": null,
   "metadata": {},
   "outputs": [],
   "source": [
    "# Use the DataCollatorWithPadding for more efficient batched padding\n",
    "data_collator = DataCollatorWithPadding(tokenizer=tokenizer)\n",
    "\n",
    "training_args = TrainingArguments(\n",
    "    output_dir=\"results\",\n",
    "    learning_rate=2e-5,\n",
    "    per_device_train_batch_size=16,\n",
    "    per_device_eval_batch_size=16,\n",
    "    num_train_epochs=5,\n",
    "    weight_decay=0.01,\n",
    "    report_to=\"wandb\",\n",
    "    run_name=\"codebert-llvm-ic\",\n",
    "    # push_to_hub=True,\n",
    "    hub_model_id=\"codebert-llvm-ic\",\n",
    ")\n",
    "\n",
    "\n",
    "\n",
    "trainer = PolicyTrainer(\n",
    "        model=model,\n",
    "        args=training_args,\n",
    "        train_dataset=training_dataset,\n",
    "        eval_dataset=eval_dataset,\n",
    "        tokenizer=tokenizer,\n",
    "        data_collator=data_collator,\n",
    "    )\n",
    "\n",
    "trainer.train()"
   ]
  }
 ],
 "metadata": {
  "interpreter": {
   "hash": "dea260c532defd7a29ceb8a90b9c1d4de4041ae592cb45bd5284772b25e3a127"
  },
  "kernelspec": {
   "display_name": "Python 3 (ipykernel)",
   "language": "python",
   "name": "python3"
  },
  "language_info": {
   "codemirror_mode": {
    "name": "ipython",
    "version": 3
   },
   "file_extension": ".py",
   "mimetype": "text/x-python",
   "name": "python",
   "nbconvert_exporter": "python",
   "pygments_lexer": "ipython3",
   "version": "3.9.7"
  }
 },
 "nbformat": 4,
 "nbformat_minor": 4
}
