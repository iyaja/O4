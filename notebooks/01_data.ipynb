{
 "cells": [
  {
   "cell_type": "code",
   "execution_count": null,
   "id": "4f3ca1ac-579e-4da6-af2e-915a9185cd7a",
   "metadata": {},
   "outputs": [],
   "source": []
  },
  {
   "cell_type": "markdown",
   "id": "f0d3670e-ddd0-4f32-9e2d-ac3fa3b35920",
   "metadata": {},
   "source": [
    "## Dataset"
   ]
  },
  {
   "cell_type": "code",
   "execution_count": 15,
   "id": "34566739-3aef-41bb-9450-d709d0bb2548",
   "metadata": {},
   "outputs": [],
   "source": [
    "SAMPLES = 10\n",
    "PHASES = 5"
   ]
  },
  {
   "cell_type": "code",
   "execution_count": 17,
   "id": "2b2aaf75-2c1a-4422-9fc8-facb33916c61",
   "metadata": {},
   "outputs": [],
   "source": [
    "class LlvmIrDataset(torch.utils.data.Dataset):\n",
    "    def __init__(self, samples=SAMPLES, phases=PHASES, evaluate: bool = False):\n",
    "        \n",
    "        self.env = gym.make(\"llvm-ic-v0\")\n",
    "        self.samples = samples\n",
    "        self.phases = phases\n",
    "        \n",
    "        # self.examples = {\"Inst2vec\":[], \"IrInstructionCountOz\":[]}\n",
    "        self.xs = []\n",
    "        self.ys = []\n",
    "        self.ts = []\n",
    "        \n",
    "        offset = len(env.inst2vec.vocab)\n",
    "        \n",
    "        for _ in range(samples):\n",
    "            self.env.reset(benchmark=self.env.datasets[\"cbench-v1\"].random_benchmark())\n",
    "            for _ in range(phases):\n",
    "                action = env.action_space.sample()\n",
    "                _, reward, done, _ = env.step(action)\n",
    "                if done: break\n",
    "                # self.xs.append(torch.tensor(self.env.observation[\"Inst2vec\"]))\n",
    "                x = np.insert(\n",
    "                    self.env.observation[\"Inst2vecEmbeddingIndices\"],\n",
    "                    0, action + offset, axis=0)\n",
    "                \n",
    "                t = np.ones_like(x)\n",
    "                t[0] = 0.0\n",
    "                \n",
    "                self.xs.append(torch.tensor(x))\n",
    "                self.ts.append(torch.tensor(t)) \n",
    "                self.ys.append(torch.tensor(reward))\n",
    "        \n",
    "    def __len__(self):\n",
    "        return len(self.xs)\n",
    "\n",
    "    def __getitem__(self, i):\n",
    "        # We’ll pad at the batch level.\n",
    "        return {\n",
    "            \"input_ids\": self.xs[i][:512],\n",
    "            \"token_type_ids\" : self.ts[i][:512],\n",
    "            \"label\": self.ys[i]\n",
    "        }"
   ]
  },
  {
   "cell_type": "code",
   "execution_count": 18,
   "id": "f29c7913-ddef-4172-8ac6-c4d41a35d2c2",
   "metadata": {},
   "outputs": [],
   "source": [
    "# ds = LlvmIrDataset(10, 2)\n",
    "# ds[0]"
   ]
  },
  {
   "cell_type": "code",
   "execution_count": 19,
   "id": "af0f8597-9e95-41cc-97cb-74fca410d7dc",
   "metadata": {},
   "outputs": [],
   "source": [
    "# tokenizer = ByteLevelBPETokenizer()\n",
    "# # tokenizer = AutoTokenizer.from_pretrained(\"huggingface/CodeBERTa-small-v1\")\n",
    "# tokenizer.train_from_iterator(sampler(), special_tokens=[\"[SEP]\", \"[CLS]\"])\n",
    "# tokenizer.save(\"vocab/tokenizer.json\")\n",
    "# tokenizer.save_model(\"vocab/\")"
   ]
  },
  {
   "cell_type": "code",
   "execution_count": 20,
   "id": "815048ce-5f9f-4c1a-b005-3cb9567fa680",
   "metadata": {},
   "outputs": [],
   "source": [
    "# # Prepare the tokenizer\n",
    "# tokenizer._tokenizer.post_processor = BertProcessing((\"[SEP]\", tokenizer.token_to_id(\"[SEP]\")), (\"[CLS]\", tokenizer.token_to_id(\"[CLS]\")),)\n",
    "# tokenizer.enable_truncation(max_length=512)"
   ]
  },
  {
   "cell_type": "code",
   "execution_count": 21,
   "id": "b1447eb0-5938-437f-b420-2a8c9180fe1d",
   "metadata": {},
   "outputs": [],
   "source": [
    "# inst2vec_vocab = list(env.inst2vec.vocab.keys())\n",
    "# batchsize = 10\n",
    "# for i in range(0, len(inst2vec_vocab), batchsize):\n",
    "#     batch = inst2vec_vocab[i:i+batchsize]\n",
    "#     tokenizer.add_tokens(batch)"
   ]
  },
  {
   "cell_type": "code",
   "execution_count": 22,
   "id": "413a3588-faa6-4326-a826-73888097051a",
   "metadata": {},
   "outputs": [],
   "source": [
    "tokenizer = RobertaTokenizerFast.from_pretrained('microsoft/codebert-base-mlm', add_prefix_space=True)\n",
    "# tokenizer.add_tokens(env.action_space.names)"
   ]
  },
  {
   "cell_type": "code",
   "execution_count": 27,
   "id": "37a03e68-a458-4cde-9ea2-fb2d99c0ae01",
   "metadata": {},
   "outputs": [],
   "source": [
    "def sampler(samples=SAMPLES, phases=PHASES):\n",
    "    for benchmark in env.datasets[\"cbench-v1\"].benchmarks():\n",
    "        print(benchmark)\n",
    "        for _ in range(samples):\n",
    "            env.reset(benchmark=benchmark)\n",
    "            for phase in range(phases):\n",
    "                action = env.action_space.sample()\n",
    "                _, reward, done, info = env.step(action)\n",
    "                env.action_space.to_string(action)\n",
    "                if done: break\n",
    "                yield tokenizer.sep_token.join(env.observation['Inst2vecPreprocessedText'])"
   ]
  },
  {
   "cell_type": "code",
   "execution_count": 28,
   "id": "14b0fb8b-b0d4-414d-8b27-5291e9aa9828",
   "metadata": {},
   "outputs": [
    {
     "name": "stderr",
     "output_type": "stream",
     "text": [
      "localhost:37085 failed to connect to all addresses (4 attempts remaining)\n",
      "localhost:37085 failed to connect to all addresses (3 attempts remaining)\n"
     ]
    },
    {
     "name": "stdout",
     "output_type": "stream",
     "text": [
      "benchmark://cbench-v1/adpcm\n"
     ]
    },
    {
     "name": "stderr",
     "output_type": "stream",
     "text": [
      "localhost:37085 failed to connect to all addresses (2 attempts remaining)\n",
      "localhost:37085 failed to connect to all addresses (1 attempt remaining)\n",
      "localhost:37085 failed to connect to all addresses (0 attempts remaining)\n",
      "Failed to stop session 60 with ServiceTransportError: localhost:37085 failed to connect to all addresses (5 retries)\n",
      "localhost:37085 failed to connect to all addresses (4 attempts remaining)\n",
      "localhost:37085 failed to connect to all addresses (3 attempts remaining)\n",
      "localhost:37085 failed to connect to all addresses (2 attempts remaining)\n",
      "localhost:37085 failed to connect to all addresses (1 attempt remaining)\n",
      "localhost:37085 failed to connect to all addresses (0 attempts remaining)\n",
      "ServiceTransportError during reset(): localhost:37085 failed to connect to all addresses (5 retries)\n"
     ]
    },
    {
     "ename": "ServiceError",
     "evalue": "Service exited with returncode -2",
     "output_type": "error",
     "traceback": [
      "\u001b[0;31m---------------------------------------------------------------------------\u001b[0m",
      "\u001b[0;31mServiceError\u001b[0m                              Traceback (most recent call last)",
      "\u001b[0;32m/tmp/ipykernel_17073/362885492.py\u001b[0m in \u001b[0;36m<module>\u001b[0;34m\u001b[0m\n\u001b[0;32m----> 1\u001b[0;31m \u001b[0;32mfor\u001b[0m \u001b[0ms\u001b[0m \u001b[0;32min\u001b[0m \u001b[0msampler\u001b[0m\u001b[0;34m(\u001b[0m\u001b[0;36m2\u001b[0m\u001b[0;34m,\u001b[0m \u001b[0;36m3\u001b[0m\u001b[0;34m)\u001b[0m\u001b[0;34m:\u001b[0m\u001b[0;34m\u001b[0m\u001b[0;34m\u001b[0m\u001b[0m\n\u001b[0m\u001b[1;32m      2\u001b[0m     \u001b[0mprint\u001b[0m\u001b[0;34m(\u001b[0m\u001b[0mlen\u001b[0m\u001b[0;34m(\u001b[0m\u001b[0ms\u001b[0m\u001b[0;34m)\u001b[0m\u001b[0;34m)\u001b[0m\u001b[0;34m\u001b[0m\u001b[0;34m\u001b[0m\u001b[0m\n",
      "\u001b[0;32m/tmp/ipykernel_17073/3388424219.py\u001b[0m in \u001b[0;36msampler\u001b[0;34m(samples, phases)\u001b[0m\n\u001b[1;32m      3\u001b[0m         \u001b[0mprint\u001b[0m\u001b[0;34m(\u001b[0m\u001b[0mbenchmark\u001b[0m\u001b[0;34m)\u001b[0m\u001b[0;34m\u001b[0m\u001b[0;34m\u001b[0m\u001b[0m\n\u001b[1;32m      4\u001b[0m         \u001b[0;32mfor\u001b[0m \u001b[0m_\u001b[0m \u001b[0;32min\u001b[0m \u001b[0mrange\u001b[0m\u001b[0;34m(\u001b[0m\u001b[0msamples\u001b[0m\u001b[0;34m)\u001b[0m\u001b[0;34m:\u001b[0m\u001b[0;34m\u001b[0m\u001b[0;34m\u001b[0m\u001b[0m\n\u001b[0;32m----> 5\u001b[0;31m             \u001b[0menv\u001b[0m\u001b[0;34m.\u001b[0m\u001b[0mreset\u001b[0m\u001b[0;34m(\u001b[0m\u001b[0mbenchmark\u001b[0m\u001b[0;34m=\u001b[0m\u001b[0mbenchmark\u001b[0m\u001b[0;34m)\u001b[0m\u001b[0;34m\u001b[0m\u001b[0;34m\u001b[0m\u001b[0m\n\u001b[0m\u001b[1;32m      6\u001b[0m             \u001b[0;32mfor\u001b[0m \u001b[0mphase\u001b[0m \u001b[0;32min\u001b[0m \u001b[0mrange\u001b[0m\u001b[0;34m(\u001b[0m\u001b[0mphases\u001b[0m\u001b[0;34m)\u001b[0m\u001b[0;34m:\u001b[0m\u001b[0;34m\u001b[0m\u001b[0;34m\u001b[0m\u001b[0m\n\u001b[1;32m      7\u001b[0m                 \u001b[0maction\u001b[0m \u001b[0;34m=\u001b[0m \u001b[0menv\u001b[0m\u001b[0;34m.\u001b[0m\u001b[0maction_space\u001b[0m\u001b[0;34m.\u001b[0m\u001b[0msample\u001b[0m\u001b[0;34m(\u001b[0m\u001b[0;34m)\u001b[0m\u001b[0;34m\u001b[0m\u001b[0;34m\u001b[0m\u001b[0m\n",
      "\u001b[0;32m~/miniconda3/envs/O4/lib/python3.9/site-packages/compiler_gym/envs/llvm/llvm_env.py\u001b[0m in \u001b[0;36mreset\u001b[0;34m(self, *args, **kwargs)\u001b[0m\n\u001b[1;32m    282\u001b[0m     \u001b[0;32mdef\u001b[0m \u001b[0mreset\u001b[0m\u001b[0;34m(\u001b[0m\u001b[0mself\u001b[0m\u001b[0;34m,\u001b[0m \u001b[0;34m*\u001b[0m\u001b[0margs\u001b[0m\u001b[0;34m,\u001b[0m \u001b[0;34m**\u001b[0m\u001b[0mkwargs\u001b[0m\u001b[0;34m)\u001b[0m\u001b[0;34m:\u001b[0m\u001b[0;34m\u001b[0m\u001b[0;34m\u001b[0m\u001b[0m\n\u001b[1;32m    283\u001b[0m         \u001b[0;32mtry\u001b[0m\u001b[0;34m:\u001b[0m\u001b[0;34m\u001b[0m\u001b[0;34m\u001b[0m\u001b[0m\n\u001b[0;32m--> 284\u001b[0;31m             \u001b[0mobservation\u001b[0m \u001b[0;34m=\u001b[0m \u001b[0msuper\u001b[0m\u001b[0;34m(\u001b[0m\u001b[0;34m)\u001b[0m\u001b[0;34m.\u001b[0m\u001b[0mreset\u001b[0m\u001b[0;34m(\u001b[0m\u001b[0;34m*\u001b[0m\u001b[0margs\u001b[0m\u001b[0;34m,\u001b[0m \u001b[0;34m**\u001b[0m\u001b[0mkwargs\u001b[0m\u001b[0;34m)\u001b[0m\u001b[0;34m\u001b[0m\u001b[0;34m\u001b[0m\u001b[0m\n\u001b[0m\u001b[1;32m    285\u001b[0m         \u001b[0;32mexcept\u001b[0m \u001b[0mValueError\u001b[0m \u001b[0;32mas\u001b[0m \u001b[0me\u001b[0m\u001b[0;34m:\u001b[0m\u001b[0;34m\u001b[0m\u001b[0;34m\u001b[0m\u001b[0m\n\u001b[1;32m    286\u001b[0m             \u001b[0;31m# Catch and re-raise some known benchmark initialization errors with\u001b[0m\u001b[0;34m\u001b[0m\u001b[0;34m\u001b[0m\u001b[0m\n",
      "\u001b[0;32m~/miniconda3/envs/O4/lib/python3.9/site-packages/compiler_gym/envs/compiler_env.py\u001b[0m in \u001b[0;36mreset\u001b[0;34m(self, benchmark, action_space, retry_count)\u001b[0m\n\u001b[1;32m    831\u001b[0m             )\n\u001b[1;32m    832\u001b[0m             \u001b[0;32mif\u001b[0m \u001b[0merror\u001b[0m\u001b[0;34m:\u001b[0m\u001b[0;34m\u001b[0m\u001b[0;34m\u001b[0m\u001b[0m\n\u001b[0;32m--> 833\u001b[0;31m                 \u001b[0;32mreturn\u001b[0m \u001b[0m_retry\u001b[0m\u001b[0;34m(\u001b[0m\u001b[0merror\u001b[0m\u001b[0;34m)\u001b[0m\u001b[0;34m\u001b[0m\u001b[0;34m\u001b[0m\u001b[0m\n\u001b[0m\u001b[1;32m    834\u001b[0m         \u001b[0;32mexcept\u001b[0m \u001b[0mFileNotFoundError\u001b[0m\u001b[0;34m:\u001b[0m\u001b[0;34m\u001b[0m\u001b[0;34m\u001b[0m\u001b[0m\n\u001b[1;32m    835\u001b[0m             \u001b[0;31m# The benchmark was not found, so try adding it and then repeating\u001b[0m\u001b[0;34m\u001b[0m\u001b[0;34m\u001b[0m\u001b[0m\n",
      "\u001b[0;32m~/miniconda3/envs/O4/lib/python3.9/site-packages/compiler_gym/envs/compiler_env.py\u001b[0m in \u001b[0;36m_retry\u001b[0;34m(error)\u001b[0m\n\u001b[1;32m    742\u001b[0m             \u001b[0mlogger\u001b[0m\u001b[0;34m.\u001b[0m\u001b[0mwarning\u001b[0m\u001b[0;34m(\u001b[0m\u001b[0;34m\"%s during reset(): %s\"\u001b[0m\u001b[0;34m,\u001b[0m \u001b[0mtype\u001b[0m\u001b[0;34m(\u001b[0m\u001b[0merror\u001b[0m\u001b[0;34m)\u001b[0m\u001b[0;34m.\u001b[0m\u001b[0m__name__\u001b[0m\u001b[0;34m,\u001b[0m \u001b[0merror\u001b[0m\u001b[0;34m)\u001b[0m\u001b[0;34m\u001b[0m\u001b[0;34m\u001b[0m\u001b[0m\n\u001b[1;32m    743\u001b[0m             \u001b[0;32mif\u001b[0m \u001b[0mself\u001b[0m\u001b[0;34m.\u001b[0m\u001b[0mservice\u001b[0m\u001b[0;34m:\u001b[0m\u001b[0;34m\u001b[0m\u001b[0;34m\u001b[0m\u001b[0m\n\u001b[0;32m--> 744\u001b[0;31m                 \u001b[0mself\u001b[0m\u001b[0;34m.\u001b[0m\u001b[0mservice\u001b[0m\u001b[0;34m.\u001b[0m\u001b[0mclose\u001b[0m\u001b[0;34m(\u001b[0m\u001b[0;34m)\u001b[0m\u001b[0;34m\u001b[0m\u001b[0;34m\u001b[0m\u001b[0m\n\u001b[0m\u001b[1;32m    745\u001b[0m             \u001b[0mself\u001b[0m\u001b[0;34m.\u001b[0m\u001b[0mservice\u001b[0m \u001b[0;34m=\u001b[0m \u001b[0;32mNone\u001b[0m\u001b[0;34m\u001b[0m\u001b[0;34m\u001b[0m\u001b[0m\n\u001b[1;32m    746\u001b[0m \u001b[0;34m\u001b[0m\u001b[0m\n",
      "\u001b[0;32m~/miniconda3/envs/O4/lib/python3.9/site-packages/compiler_gym/service/connection.py\u001b[0m in \u001b[0;36mclose\u001b[0;34m(self)\u001b[0m\n\u001b[1;32m    710\u001b[0m         \u001b[0;32mif\u001b[0m \u001b[0mself\u001b[0m\u001b[0;34m.\u001b[0m\u001b[0mclosed\u001b[0m\u001b[0;34m:\u001b[0m\u001b[0;34m\u001b[0m\u001b[0;34m\u001b[0m\u001b[0m\n\u001b[1;32m    711\u001b[0m             \u001b[0;32mreturn\u001b[0m\u001b[0;34m\u001b[0m\u001b[0;34m\u001b[0m\u001b[0m\n\u001b[0;32m--> 712\u001b[0;31m         \u001b[0mself\u001b[0m\u001b[0;34m.\u001b[0m\u001b[0mconnection\u001b[0m\u001b[0;34m.\u001b[0m\u001b[0mclose\u001b[0m\u001b[0;34m(\u001b[0m\u001b[0;34m)\u001b[0m\u001b[0;34m\u001b[0m\u001b[0;34m\u001b[0m\u001b[0m\n\u001b[0m\u001b[1;32m    713\u001b[0m         \u001b[0mself\u001b[0m\u001b[0;34m.\u001b[0m\u001b[0mconnection\u001b[0m \u001b[0;34m=\u001b[0m \u001b[0;32mNone\u001b[0m\u001b[0;34m\u001b[0m\u001b[0;34m\u001b[0m\u001b[0m\n\u001b[1;32m    714\u001b[0m \u001b[0;34m\u001b[0m\u001b[0m\n",
      "\u001b[0;32m~/miniconda3/envs/O4/lib/python3.9/site-packages/compiler_gym/service/connection.py\u001b[0m in \u001b[0;36mclose\u001b[0;34m(self)\u001b[0m\n\u001b[1;32m    484\u001b[0m                 \u001b[0;31m# the exception once.\u001b[0m\u001b[0;34m\u001b[0m\u001b[0;34m\u001b[0m\u001b[0m\n\u001b[1;32m    485\u001b[0m                 \u001b[0mself\u001b[0m\u001b[0;34m.\u001b[0m\u001b[0m_process_returncode_exception_raised\u001b[0m \u001b[0;34m=\u001b[0m \u001b[0;32mTrue\u001b[0m\u001b[0;34m\u001b[0m\u001b[0;34m\u001b[0m\u001b[0m\n\u001b[0;32m--> 486\u001b[0;31m                 raise ServiceError(\n\u001b[0m\u001b[1;32m    487\u001b[0m                     \u001b[0;34mf\"Service exited with returncode {self.process.returncode}\"\u001b[0m\u001b[0;34m\u001b[0m\u001b[0;34m\u001b[0m\u001b[0m\n\u001b[1;32m    488\u001b[0m                 )\n",
      "\u001b[0;31mServiceError\u001b[0m: Service exited with returncode -2"
     ]
    }
   ],
   "source": [
    "for s in sampler(2, 3):\n",
    "    print(len(s))"
   ]
  },
  {
   "cell_type": "code",
   "execution_count": null,
   "id": "7eab8abc-82f9-48cc-8d05-6a32c7bce65e",
   "metadata": {},
   "outputs": [],
   "source": [
    "tokenizer = tokenizer.train_new_from_iterator(sampler(10, 5),\n",
    "                                              vocab_size = len(env.inst2vec.vocab),\n",
    "                                              new_special_tokens = env.action_space.names)"
   ]
  },
  {
   "cell_type": "code",
   "execution_count": null,
   "id": "603bf5ad-0b22-48e1-a016-e1f2c6990200",
   "metadata": {},
   "outputs": [],
   "source": [
    "tokenized = tokenizer(env.observation['Inst2vecPreprocessedText'],\n",
    "          is_split_into_words=True,\n",
    "          padding=True,\n",
    "          truncation=True,\n",
    "          return_tensors=\"pt\")\n",
    "tokenized"
   ]
  },
  {
   "cell_type": "code",
   "execution_count": null,
   "id": "a4396884-e8b9-472a-a0bf-f6249022bb47",
   "metadata": {},
   "outputs": [],
   "source": [
    "tokenized['input_ids'].shape"
   ]
  },
  {
   "cell_type": "code",
   "execution_count": null,
   "id": "47ee9531-adcd-49a0-9571-74107e586f21",
   "metadata": {},
   "outputs": [],
   "source": [
    "tokenizer.sep_token"
   ]
  },
  {
   "cell_type": "code",
   "execution_count": null,
   "id": "e56c101e-738e-4116-9ae8-399c38d68800",
   "metadata": {},
   "outputs": [],
   "source": [
    "len(env.observation['Inst2vecPreprocessedText'])"
   ]
  }
 ],
 "metadata": {
  "kernelspec": {
   "display_name": "Python 3 (ipykernel)",
   "language": "python",
   "name": "python3"
  },
  "language_info": {
   "codemirror_mode": {
    "name": "ipython",
    "version": 3
   },
   "file_extension": ".py",
   "mimetype": "text/x-python",
   "name": "python",
   "nbconvert_exporter": "python",
   "pygments_lexer": "ipython3",
   "version": "3.9.7"
  }
 },
 "nbformat": 4,
 "nbformat_minor": 5
}
