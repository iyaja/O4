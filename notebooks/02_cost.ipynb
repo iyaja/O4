{
 "cells": [
  {
   "cell_type": "code",
   "execution_count": null,
   "id": "e6f0c663",
   "metadata": {},
   "outputs": [],
   "source": [
    "# %env TOKENIZERS_PARLLELISM=false\n",
    "%env WANDB_PROJECT=O4"
   ]
  },
  {
   "cell_type": "code",
   "execution_count": null,
   "id": "25667028-1e0f-4800-80be-ecffd6cb2508",
   "metadata": {},
   "outputs": [],
   "source": [
    "import gym\n",
    "import compiler_gym                      # imports the CompilerGym environments\n",
    "from compiler_gym.envs.llvm.datasets import CBenchDataset\n",
    "\n",
    "import numpy as np\n",
    "import pandas as pd\n",
    "from torch import nn\n",
    "import torch\n",
    "\n",
    "from transformers import AutoTokenizer, AutoModelForMaskedLM, AutoModelForSequenceClassification, AutoModelForPreTraining, RobertaForSequenceClassification\n",
    "from transformers import Trainer\n",
    "from transformers import PreTrainedTokenizerFast, BertTokenizerFast, RobertaTokenizerFast\n",
    "from transformers import DataCollatorWithPadding\n",
    "\n",
    "from tokenizers import ByteLevelBPETokenizer, BertWordPieceTokenizer\n",
    "from tokenizers.processors import BertProcessing\n",
    "\n",
    "from datasets import Dataset"
   ]
  },
  {
   "cell_type": "markdown",
   "id": "1693d918-39e4-4414-a6b8-356d1be2d013",
   "metadata": {},
   "source": [
    "Compiler gym comes with many environments."
   ]
  },
  {
   "cell_type": "code",
   "execution_count": null,
   "id": "dd8c3757-b650-48b7-93e4-bd768a2c9b9e",
   "metadata": {},
   "outputs": [],
   "source": [
    "compiler_gym.COMPILER_GYM_ENVS"
   ]
  },
  {
   "cell_type": "markdown",
   "id": "5961dce0-675b-41c0-9bc6-f4429c5eefe0",
   "metadata": {},
   "source": [
    "We are solving phase ordering."
   ]
  },
  {
   "cell_type": "code",
   "execution_count": null,
   "id": "85c1d45b-e595-4ea8-b749-0b70184eaa5d",
   "metadata": {},
   "outputs": [],
   "source": [
    "env = gym.make(\"llvm-ic-v0\")"
   ]
  },
  {
   "cell_type": "markdown",
   "id": "c1d170e8-6d07-4600-b963-8ba0cdb935a2",
   "metadata": {},
   "source": [
    "The actions you can take are applying one among many different optimization passes."
   ]
  },
  {
   "cell_type": "code",
   "execution_count": null,
   "id": "f7b6b982-d01d-4467-acbe-40bec56d6f13",
   "metadata": {},
   "outputs": [],
   "source": [
    "env.reset()"
   ]
  },
  {
   "cell_type": "code",
   "execution_count": null,
   "id": "608bed61-3476-42e5-9e96-ba318f101aa4",
   "metadata": {},
   "outputs": [],
   "source": [
    "env.benchmark"
   ]
  },
  {
   "cell_type": "code",
   "execution_count": null,
   "id": "0c19f9c4-1943-4ac3-b17d-7a67b7ad1c96",
   "metadata": {},
   "outputs": [],
   "source": [
    "env.action_space"
   ]
  },
  {
   "cell_type": "markdown",
   "id": "135de41c-aa78-4f79-b270-0b312d4c221e",
   "metadata": {},
   "source": [
    "At each step, you \"observe\" a string which contains the IR."
   ]
  },
  {
   "cell_type": "code",
   "execution_count": null,
   "id": "ff555324-d088-49c0-addb-a54e186ad995",
   "metadata": {},
   "outputs": [],
   "source": [
    "env.observation_space"
   ]
  },
  {
   "cell_type": "markdown",
   "id": "fc52512e-c547-4c18-9768-9dbdf96f8830",
   "metadata": {},
   "source": [
    "Check which benchmark (program) is being used."
   ]
  },
  {
   "cell_type": "code",
   "execution_count": null,
   "id": "73f2d7fa-7ea1-4d4f-860b-3dc1326d57e1",
   "metadata": {},
   "outputs": [],
   "source": [
    "env.benchmark"
   ]
  },
  {
   "cell_type": "code",
   "execution_count": null,
   "id": "bf1179f9-60de-46fa-93c7-c45c43d90966",
   "metadata": {},
   "outputs": [],
   "source": [
    "env.reset()                              # starts a new compilation session\n",
    "# env.render()                             # prints the IR of the program\n",
    "env.step(env.action_space.sample())      # applies a random optimization, updates state/reward/actions\n",
    "# env.close()                              # closes the environment, freeing resources\n",
    "# env.observation[\"Ir\"]"
   ]
  },
  {
   "cell_type": "code",
   "execution_count": null,
   "id": "e2f7eec4-8073-45ea-a1db-b57a8b68f493",
   "metadata": {},
   "outputs": [],
   "source": [
    "env.observation"
   ]
  },
  {
   "cell_type": "markdown",
   "id": "766eaf44-04b7-4f7f-afce-c32b8522ffb3",
   "metadata": {},
   "source": [
    "## Tokenizer"
   ]
  },
  {
   "cell_type": "code",
   "execution_count": null,
   "id": "53534e29-2a8e-4049-8b92-64a0759dc920",
   "metadata": {},
   "outputs": [],
   "source": [
    "tokenizer = PreTrainedTokenizerFast(tokenizer_file='tokenizer.json', max_len_single_sentence=1024)\n",
    "tokenizer.add_tokens(env.action_space.names)\n",
    "tokenizer.add_special_tokens({\n",
    "    'cls_token': '[CLS]',\n",
    "    'pad_token': '[PAD]',\n",
    "    'sep_token': '[SEP]',\n",
    "})"
   ]
  },
  {
   "cell_type": "code",
   "execution_count": null,
   "id": "84f820d2-02d8-43ce-bd16-196d9f45b27e",
   "metadata": {},
   "outputs": [],
   "source": [
    "act = env.action_space.names[env.action_space.sample()]\n",
    "tokenized = tokenizer([act], env.observation['Inst2vecPreprocessedText'],\n",
    "          is_split_into_words=True,\n",
    "          padding=True,\n",
    "          truncation=True,\n",
    "          max_length=1024,\n",
    "          return_tensors=\"pt\")"
   ]
  },
  {
   "cell_type": "markdown",
   "id": "2352a732-f832-4b43-8175-b4e0026b05bc",
   "metadata": {},
   "source": [
    "## Datasets"
   ]
  },
  {
   "cell_type": "code",
   "execution_count": null,
   "id": "7e72a732-d9a9-46d7-abfa-607a0d84f628",
   "metadata": {},
   "outputs": [],
   "source": [
    "SAMPLES = 10\n",
    "PHASES = 5"
   ]
  },
  {
   "cell_type": "code",
   "execution_count": null,
   "id": "e1467134-1ca1-422b-a76c-2379759ebfdf",
   "metadata": {},
   "outputs": [],
   "source": [
    "def dataset_sampler(samples=SAMPLES, phases=PHASES):\n",
    "    # for benchmark in env.datasets[\"cbench-v1\"].benchmarks():\n",
    "    #     print(benchmark)\n",
    "        # for _ in range(samples):\n",
    "        #     env.reset(benchmark=benchmark)\n",
    "    for _ in range(samples):\n",
    "        env.reset()\n",
    "        for phase in range(phases):\n",
    "            action = env.action_space.sample()\n",
    "            _, reward, done, info = env.step(action)\n",
    "            env.action_space.to_string(action)\n",
    "            if done: break\n",
    "            action = env.action_space.to_string(action)\n",
    "            text = env.observation['Inst2vecPreprocessedText']\n",
    "            label = reward\n",
    "            yield  [action] + text, reward"
   ]
  },
  {
   "cell_type": "code",
   "execution_count": null,
   "id": "5d03b63d-ba0f-41c8-8417-68231d4ed378",
   "metadata": {},
   "outputs": [],
   "source": [
    "# train_samples = [{\"action\": a, \"text\": t, \"reward\": r} for a, t, r in dataset_sampler(64, 8)]\n",
    "# eval_samples = [{\"action\": a, \"text\": t, \"reward\": r} for a, t, r in dataset_sampler(8, 8)]\n",
    "\n",
    "train_samples = [{\"text\": x, \"label\": y} for x, y in dataset_sampler(64, 8)]\n",
    "eval_samples = [{\"text\": x, \"label\": y} for x, y in dataset_sampler(8, 8)]"
   ]
  },
  {
   "cell_type": "code",
   "execution_count": null,
   "id": "034f2841-0065-4fbb-9eb3-67af07f30ea4",
   "metadata": {},
   "outputs": [],
   "source": [
    "train_dict = {k: v for d in train_samples for k, v in d.items()}\n",
    "eval_dict = {k: v for d in eval_samples for k, v in d.items()}"
   ]
  },
  {
   "cell_type": "code",
   "execution_count": null,
   "id": "1d7dd95e-43ef-4e8b-bcb1-5452842748ce",
   "metadata": {},
   "outputs": [],
   "source": [
    "train_df = pd.DataFrame(train_samples).astype('object')\n",
    "eval_df = pd.DataFrame(eval_samples).astype('object')\n",
    "train_df.head()"
   ]
  },
  {
   "cell_type": "code",
   "execution_count": null,
   "id": "784e182f-86b9-422b-b167-f9d79cb6c197",
   "metadata": {},
   "outputs": [],
   "source": [
    "# train_ds = Dataset.from_dict(train_dict)\n",
    "# eval_ds = Dataset.from_dict(eval_dict)\n",
    "\n",
    "train_ds = Dataset.from_pandas(train_df)\n",
    "eval_ds = Dataset.from_pandas(eval_df)"
   ]
  },
  {
   "cell_type": "code",
   "execution_count": null,
   "id": "2dc9bf43-b652-4fda-9748-80622663804c",
   "metadata": {},
   "outputs": [],
   "source": [
    "def preprocess(example):\n",
    "    return tokenizer(example['text'],\n",
    "                      is_split_into_words=True,\n",
    "                      padding=True,\n",
    "                      truncation=True,\n",
    "                      max_length=512,\n",
    "                     )\n",
    "\n",
    "tokenized_train = train_ds.map(preprocess, batched=True)\n",
    "tokenized_eval = eval_ds.map(preprocess, batched=True)\n",
    "\n",
    "columns = ['input_ids', 'token_type_ids', 'label']\n",
    "tokenized_train.set_format(type='torch', columns=columns)\n",
    "tokenized_eval.set_format(type='torch', columns=columns)"
   ]
  },
  {
   "cell_type": "code",
   "execution_count": null,
   "id": "cd79908b-5ef8-47aa-ab93-93740716f80f",
   "metadata": {},
   "outputs": [],
   "source": [
    "tokenized_train[0]['input_ids'].shape"
   ]
  },
  {
   "cell_type": "markdown",
   "id": "a5b97920",
   "metadata": {},
   "source": [
    "## Model"
   ]
  },
  {
   "cell_type": "code",
   "execution_count": null,
   "id": "71eaf5e0-9fc2-4a20-be57-3db02729fbff",
   "metadata": {},
   "outputs": [],
   "source": [
    "model = RobertaForSequenceClassification.from_pretrained('microsoft/codebert-base-mlm', num_labels=1)\n",
    "model.resize_token_embeddings(len(tokenizer))"
   ]
  },
  {
   "cell_type": "markdown",
   "id": "3f14df42-9a2f-4607-a69b-b6d633304aeb",
   "metadata": {},
   "source": [
    "## Training"
   ]
  },
  {
   "cell_type": "code",
   "execution_count": null,
   "id": "a2bbc42c-a4bc-4fc7-9b52-6d4193eb22ab",
   "metadata": {},
   "outputs": [],
   "source": [
    "data_collator = DataCollatorWithPadding(tokenizer=tokenizer)"
   ]
  },
  {
   "cell_type": "code",
   "execution_count": null,
   "id": "4e7f70d1-e8d1-4b1e-be72-4c44c05221a9",
   "metadata": {},
   "outputs": [],
   "source": [
    "class CostModelTrainer(Trainer):\n",
    "    def compute_loss(self, model, inputs, return_outputs=False):\n",
    "        labels = inputs.get(\"labels\")\n",
    "        outputs = model(**inputs)\n",
    "        logits = outputs.get('logits')\n",
    "        loss_fct = nn.MSELoss()\n",
    "        loss = loss_fct(logits.view(-1, self.model.config.num_labels),\n",
    "                        labels.float().view(-1, self.model.config.num_labels))\n",
    "        return (loss, outputs) if return_outputs else loss"
   ]
  },
  {
   "cell_type": "code",
   "execution_count": null,
   "id": "3b5a41bd-d504-457c-bb59-be994dcdd97b",
   "metadata": {},
   "outputs": [],
   "source": [
    "from transformers import TrainingArguments, Trainer\n",
    "\n",
    "training_args = TrainingArguments(\n",
    "    output_dir=\"../results/cost\",\n",
    "    learning_rate=2e-5,\n",
    "    per_device_train_batch_size=2,\n",
    "    per_device_eval_batch_size=2,\n",
    "    num_train_epochs=5,\n",
    "    weight_decay=0.01,\n",
    "    report_to=\"wandb\",\n",
    "    run_name=\"codebert-llvm-ic-v0\",\n",
    ")\n",
    "\n",
    "trainer = CostModelTrainer(\n",
    "    model=model,\n",
    "    args=training_args,\n",
    "    train_dataset=tokenized_train,\n",
    "    eval_dataset=tokenized_eval,\n",
    "    tokenizer=tokenizer,\n",
    "    data_collator=data_collator,\n",
    ")\n",
    "\n",
    "trainer.train()"
   ]
  },
  {
   "cell_type": "code",
   "execution_count": null,
   "id": "9e737530",
   "metadata": {},
   "outputs": [],
   "source": []
  }
 ],
 "metadata": {
  "kernelspec": {
   "display_name": "Python 3 (ipykernel)",
   "language": "python",
   "name": "python3"
  },
  "language_info": {
   "codemirror_mode": {
    "name": "ipython",
    "version": 3
   },
   "file_extension": ".py",
   "mimetype": "text/x-python",
   "name": "python",
   "nbconvert_exporter": "python",
   "pygments_lexer": "ipython3",
   "version": "3.9.7"
  }
 },
 "nbformat": 4,
 "nbformat_minor": 5
}
